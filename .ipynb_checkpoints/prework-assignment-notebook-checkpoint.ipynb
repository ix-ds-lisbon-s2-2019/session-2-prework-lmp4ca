{
 "cells": [
  {
   "cell_type": "markdown",
   "metadata": {},
   "source": [
    "Prework Assignment"
   ]
  },
  {
   "cell_type": "markdown",
   "metadata": {},
   "source": [
    "### General Background Questions"
   ]
  },
  {
   "cell_type": "markdown",
   "metadata": {},
   "source": [
    "1. Why is version control important in science?"
   ]
  },
  {
   "cell_type": "code",
   "execution_count": 1,
   "metadata": {},
   "outputs": [],
   "source": [
    "# Version control is used by all scientists at some point, whether formal or informal, to manage multiple revisions and drafts of the project and the many parts that contribute to it (papers, code, datasets, etc). When done poorly, version control can lead to much confusion and hinder collaboration, transparency and verifiability. Thus, version control is incredibly important in science, a field that requires reproducibility, or as the article states, “Reproducibility is the hallmark of good science.” I know when working on group projects, whether it be creating musical arrangements or writing a lab report, there often ends up being multiple drafts with confusing, unhelpful file names. With Version Control Systems (VCS), the process of managing multiple versions of files during development along with commentary is made infinitely easier. VCS have long been used in the software industry, but are now being used to aid scientific research through management of lab notebooks, facilitating collaboration throughout the scientific research world, and enabling scientistis to explore new ideas and methods and comment on others work, among other important benefits. "
   ]
  },
  {
   "cell_type": "markdown",
   "metadata": {},
   "source": [
    "2. What kind of research artifacts can we track with Git?"
   ]
  },
  {
   "cell_type": "code",
   "execution_count": 1,
   "metadata": {},
   "outputs": [],
   "source": [
    "# With Git, we can track four major categories of research artifacts. First, we have manuscripts and notes. Specifically, Git is best suited for plain-text files (such as data stored in non-proprietary spreadsheet formats, scripts from programming languages, and manuscripts stored in plain text formats). This allows for the specific changed sections of a file to be highlighted. Second are datasets which are ideal for managing with Git . These can include data manually entered via spreadsheets or retrieved from sensors. Using data with Git avoids proliferation of files while still having the full history available. Third, we can use Git to track statistical code and figures, for example, on software such as R and Python. This allows the users to go back into complex code to find the source of errors and recover from them. And finally, we can track complete manuscripts with Git, combining the efforts of the other 3 kinds of research artifacts. "
   ]
  },
  {
   "cell_type": "markdown",
   "metadata": {},
   "source": [
    "3. What are the three main things that can go wrong in a data science project?"
   ]
  },
  {
   "cell_type": "code",
   "execution_count": 1,
   "metadata": {},
   "outputs": [],
   "source": [
    "# The three main things that can go wrong in a data science project are (1) the data isn’t what you wanted, (2) the model doesn’t work well, and (3) you weren’t solving the right problem. First, it is impossible to look into every potential data source before pitching a project and your original assumptions don’t always hold once the project starts. The data may not actually exist, be stored in an unuseful format or somewhere inaccessible. The article concludes that “if the data isn’t there then you can’t science it.” Second, the model might not work well, meaning that it does not inform your prediction. The article states that “If the signal exists, you’ll find it — no matter how mediocre your model,” and therefore, it is not your fault as the data scientist. Finally, you may not have been solving the right problem, regardless of your data being good and your model being effective. Your solution just may not be what the consumers actually desire and this is very difficult to predict ahead of time. In conclusion, this article highlighted three categories of common issues that are out of the data scientists control and stressed the importance of being flexible and understanding that these are natural and inevitable. "
   ]
  },
  {
   "cell_type": "markdown",
   "metadata": {},
   "source": [
    "### Python Background Questions"
   ]
  },
  {
   "cell_type": "markdown",
   "metadata": {},
   "source": [
    "These short exercises are a way to familiarize yourself with python. If you find these exercises too difficult, don’t worry! We will review the basics the first day to make sure we are all comfortable coding in Python.\n",
    "\n",
    "Please save your work in this document and `git push` them to the `prework-assignment` repo.\n",
    "\n",
    "----------------------------------------------------------------"
   ]
  },
  {
   "cell_type": "markdown",
   "metadata": {},
   "source": [
    "### Problem 1: Basic Operations"
   ]
  },
  {
   "cell_type": "markdown",
   "metadata": {},
   "source": [
    "You are at Vanessa's Vegan Cafe and you loved it so much you wanna leave a tip. Write a function that takes the amount owed and calculates how much money you pay with an 18% tip. If functions still scare you, just the solution code will do."
   ]
  },
  {
   "cell_type": "code",
   "execution_count": 2,
   "metadata": {},
   "outputs": [],
   "source": [
    "def tip_paying(initial_price):\n",
    "    print(initial_price + (0.18*initial_price))"
   ]
  },
  {
   "cell_type": "markdown",
   "metadata": {},
   "source": [
    "----------------------------------------------------------------"
   ]
  },
  {
   "cell_type": "markdown",
   "metadata": {},
   "source": [
    "### Problem 2: Lists"
   ]
  },
  {
   "cell_type": "markdown",
   "metadata": {},
   "source": [
    "I have a fortune cookie that says my lucky numbers are:\n",
    "\n",
    "       [23, 54, 6, 8, 10078, 3]\n",
    "\n",
    "Write a function that returns 3 lists (if functions still scare you, just the solution code will do)\n",
    "   - replace the number 6 with 1\n",
    "   - the above list in decreasing order\n",
    "   - all values greater than 15"
   ]
  },
  {
   "cell_type": "code",
   "execution_count": 5,
   "metadata": {},
   "outputs": [],
   "source": [
    "def fortune_cookie(my_numbers):\n",
    "    list1 = my_numbers[0:2] + [1] + my_numbers[3:6]\n",
    "    my_numbers.sort(reverse=True)\n",
    "    list2 = my_numbers\n",
    "    list3 = []\n",
    "    for i in range(len(my_numbers)):\n",
    "        if my_numbers[i] > 15:\n",
    "            list3.append(my_numbers[i])\n",
    "    return list1, list2, list3"
   ]
  },
  {
   "cell_type": "markdown",
   "metadata": {},
   "source": [
    "----------------------------------------------------------------"
   ]
  },
  {
   "cell_type": "markdown",
   "metadata": {},
   "source": [
    "### Problem 3: Basic Operations"
   ]
  },
  {
   "cell_type": "markdown",
   "metadata": {},
   "source": [
    "Let's now take the first step in coding some real data science. Write a statement that loads the `numpy` library into the interpreter and gives it an alias of `np`."
   ]
  },
  {
   "cell_type": "code",
   "execution_count": 4,
   "metadata": {},
   "outputs": [],
   "source": [
    "import numpy as np"
   ]
  },
  {
   "cell_type": "markdown",
   "metadata": {},
   "source": [
    "----------------------------------------------------------------"
   ]
  },
  {
   "cell_type": "markdown",
   "metadata": {},
   "source": [
    "### Problem 4: Numpy"
   ]
  },
  {
   "cell_type": "markdown",
   "metadata": {},
   "source": [
    "Generated a 10x10 `numpy` array with random numbers and slice the array to get the 2nd and 3rd column. Also calculate the average of 6th column using `numpy`."
   ]
  },
  {
   "cell_type": "code",
   "execution_count": 7,
   "metadata": {},
   "outputs": [
    {
     "name": "stdout",
     "output_type": "stream",
     "text": [
      "[[9 4]\n",
      " [4 5]\n",
      " [5 1]\n",
      " [4 2]\n",
      " [4 6]\n",
      " [1 5]\n",
      " [9 4]\n",
      " [4 7]\n",
      " [8 1]\n",
      " [6 2]]\n",
      "4.44\n"
     ]
    }
   ],
   "source": [
    "array = np.random.randint(10, size=(10, 10))\n",
    "print(array[:, [1,2]])\n",
    "print(np.mean(array[:, :5]))"
   ]
  },
  {
   "cell_type": "markdown",
   "metadata": {},
   "source": [
    "----------------------------------------------------------------"
   ]
  },
  {
   "cell_type": "markdown",
   "metadata": {},
   "source": [
    "##### That's it! We look forward to seeing you in class!"
   ]
  }
 ],
 "metadata": {
  "kernelspec": {
   "display_name": "Python 3",
   "language": "python",
   "name": "python3"
  },
  "language_info": {
   "codemirror_mode": {
    "name": "ipython",
    "version": 3
   },
   "file_extension": ".py",
   "mimetype": "text/x-python",
   "name": "python",
   "nbconvert_exporter": "python",
   "pygments_lexer": "ipython3",
   "version": "3.7.3"
  }
 },
 "nbformat": 4,
 "nbformat_minor": 2
}
